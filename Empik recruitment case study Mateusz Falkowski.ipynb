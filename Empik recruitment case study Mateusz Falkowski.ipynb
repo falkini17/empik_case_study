{
 "cells": [
  {
   "cell_type": "markdown",
   "metadata": {},
   "source": [
    "#    EMPIK prediction task solution by Mateusz Falkowski"
   ]
  },
  {
   "cell_type": "markdown",
   "metadata": {},
   "source": [
    "**Libraries and data**"
   ]
  },
  {
   "cell_type": "code",
   "execution_count": 1,
   "metadata": {},
   "outputs": [
    {
     "name": "stderr",
     "output_type": "stream",
     "text": [
      "\n",
      "Attaching package: 'dplyr'\n",
      "\n",
      "The following objects are masked from 'package:stats':\n",
      "\n",
      "    filter, lag\n",
      "\n",
      "The following objects are masked from 'package:base':\n",
      "\n",
      "    intersect, setdiff, setequal, union\n",
      "\n",
      "Warning message:\n",
      "\"package 'splitstackshape' was built under R version 3.6.3\""
     ]
    }
   ],
   "source": [
    "library(ggplot2)\n",
    "library(dplyr)\n",
    "library(splitstackshape)\n",
    "data <- read.csv(\"https://raw.githubusercontent.com/falkini17/empik_case_study/master/bank_data_prediction_task.csv\")"
   ]
  },
  {
   "cell_type": "markdown",
   "metadata": {},
   "source": [
    "# Initial analysis and data manipulation"
   ]
  },
  {
   "cell_type": "markdown",
   "metadata": {},
   "source": [
    "To start with I check the structure and summary of data"
   ]
  },
  {
   "cell_type": "code",
   "execution_count": 2,
   "metadata": {},
   "outputs": [
    {
     "name": "stdout",
     "output_type": "stream",
     "text": [
      "'data.frame':\t41188 obs. of  23 variables:\n",
      " $ X                : int  1 2 3 4 5 6 7 8 9 10 ...\n",
      " $ age              : int  37 45 59 25 35 54 55 37 35 39 ...\n",
      " $ job              : Factor w/ 12 levels \"admin.\",\"blue-collar\",..: 8 8 1 8 2 6 2 1 10 7 ...\n",
      " $ marital          : Factor w/ 4 levels \"divorced\",\"married\",..: 2 2 2 3 2 2 2 2 2 2 ...\n",
      " $ education        : Factor w/ 8 levels \"basic.4y\",\"basic.6y\",..: 4 3 6 4 2 3 1 4 7 3 ...\n",
      " $ default          : Factor w/ 3 levels \"no\",\"unknown\",..: 1 2 1 1 1 2 2 1 1 2 ...\n",
      " $ housing          : Factor w/ 3 levels \"no\",\"unknown\",..: 3 1 1 3 3 3 3 3 1 1 ...\n",
      " $ loan             : Factor w/ 3 levels \"no\",\"unknown\",..: 1 1 1 1 1 3 1 1 3 1 ...\n",
      " $ contact          : Factor w/ 2 levels \"cellular\",\"telephone\": 2 2 2 2 2 2 2 2 2 2 ...\n",
      " $ month            : Factor w/ 10 levels \"apr\",\"aug\",\"dec\",..: 7 7 7 7 7 7 7 7 7 7 ...\n",
      " $ day_of_week      : Factor w/ 5 levels \"fri\",\"mon\",\"thu\",..: 2 2 2 2 2 2 2 2 2 2 ...\n",
      " $ duration         : int  226 198 139 50 146 174 262 172 99 233 ...\n",
      " $ campaign         : int  1 1 1 1 1 1 1 1 1 1 ...\n",
      " $ pdays            : int  999 999 999 999 999 999 999 999 999 999 ...\n",
      " $ previous         : int  0 0 0 0 0 0 0 0 0 0 ...\n",
      " $ poutcome         : Factor w/ 3 levels \"failure\",\"nonexistent\",..: 2 2 2 2 2 2 2 2 2 2 ...\n",
      " $ emp.var.rate     : num  1.1 1.1 1.1 1.1 1.1 1.1 1.1 1.1 1.1 1.1 ...\n",
      " $ cons.price.idx   : num  94 94 94 94 94 ...\n",
      " $ cons.conf.idx    : num  -36.4 -36.4 -36.4 -36.4 -36.4 -36.4 -36.4 -36.4 -36.4 -36.4 ...\n",
      " $ euribor3m        : num  4.86 4.86 4.86 4.86 4.86 ...\n",
      " $ nr.employed      : num  5191 5191 5191 5191 5191 ...\n",
      " $ y                : Factor w/ 2 levels \"no\",\"yes\": 1 1 1 1 1 1 1 1 1 1 ...\n",
      " $ test_control_flag: Factor w/ 2 levels \"campaign group\",..: 1 1 1 1 1 1 1 1 1 1 ...\n"
     ]
    },
    {
     "data": {
      "text/plain": [
       "       X              age                 job            marital     \n",
       " Min.   :    1   Min.   :17.00   admin.     :10422   divorced: 4612  \n",
       " 1st Qu.:10298   1st Qu.:32.00   blue-collar: 9254   married :24928  \n",
       " Median :20595   Median :38.00   technician : 6743   single  :11568  \n",
       " Mean   :20595   Mean   :40.02   services   : 3969   unknown :   80  \n",
       " 3rd Qu.:30891   3rd Qu.:47.00   management : 2924                   \n",
       " Max.   :41188   Max.   :98.00   retired    : 1720                   \n",
       "                                 (Other)    : 6156                   \n",
       "               education        default         housing           loan      \n",
       " university.degree  :12168   no     :32588   no     :18622   no     :33950  \n",
       " high.school        : 9515   unknown: 8597   unknown:  990   unknown:  990  \n",
       " basic.9y           : 6045   yes    :    3   yes    :21576   yes    : 6248  \n",
       " professional.course: 5243                                                  \n",
       " basic.4y           : 4176                                                  \n",
       " basic.6y           : 2292                                                  \n",
       " (Other)            : 1749                                                  \n",
       "      contact          month       day_of_week     duration     \n",
       " cellular :10505   may    : 5536   fri : 3069   Min.   :   0.0  \n",
       " telephone: 5971   jul    : 2842   mon : 3421   1st Qu.: 104.0  \n",
       " NA's     :24712   aug    : 2443   thu : 3491   Median : 182.0  \n",
       "                   jun    : 2126   tue : 3207   Mean   : 259.7  \n",
       "                   nov    : 1653   wed : 3288   3rd Qu.: 320.0  \n",
       "                   (Other): 1876   NA's:24712   Max.   :4918.0  \n",
       "                   NA's   :24712                NA's   :24712   \n",
       "    campaign         pdays          previous            poutcome    \n",
       " Min.   : 1.00   Min.   :  0.0   Min.   :0.000   failure    : 4252  \n",
       " 1st Qu.: 1.00   1st Qu.:999.0   1st Qu.:0.000   nonexistent:35563  \n",
       " Median : 2.00   Median :999.0   Median :0.000   success    : 1373  \n",
       " Mean   : 2.58   Mean   :962.5   Mean   :0.173                      \n",
       " 3rd Qu.: 3.00   3rd Qu.:999.0   3rd Qu.:0.000                      \n",
       " Max.   :43.00   Max.   :999.0   Max.   :7.000                      \n",
       " NA's   :24712                                                      \n",
       "  emp.var.rate      cons.price.idx  cons.conf.idx     euribor3m    \n",
       " Min.   :-3.40000   Min.   :92.20   Min.   :-50.8   Min.   :0.634  \n",
       " 1st Qu.:-1.80000   1st Qu.:93.08   1st Qu.:-42.7   1st Qu.:1.344  \n",
       " Median : 1.10000   Median :93.75   Median :-41.8   Median :4.857  \n",
       " Mean   : 0.08189   Mean   :93.58   Mean   :-40.5   Mean   :3.621  \n",
       " 3rd Qu.: 1.40000   3rd Qu.:93.99   3rd Qu.:-36.4   3rd Qu.:4.961  \n",
       " Max.   : 1.40000   Max.   :94.77   Max.   :-26.9   Max.   :5.045  \n",
       "                    NA's   :113                                    \n",
       "  nr.employed     y              test_control_flag\n",
       " Min.   :4964   no :37048   campaign group:16476  \n",
       " 1st Qu.:5099   yes: 4140   control group :24712  \n",
       " Median :5191                                     \n",
       " Mean   :5167                                     \n",
       " 3rd Qu.:5228                                     \n",
       " Max.   :5228                                     \n",
       "                                                  "
      ]
     },
     "metadata": {},
     "output_type": "display_data"
    }
   ],
   "source": [
    "str(data)\n",
    "summary(data)"
   ]
  },
  {
   "cell_type": "markdown",
   "metadata": {},
   "source": [
    "After taking a look at the variables y and test_control_flag indicating the purchase and being treated with campaign I create their **converegence table**. Worth noticing is the fact of significant number of NA's in the variables: contact, month, day_of_week, duration and campaign. They correspond to the fact that this data was not gathered in the control group. Moreover, some NA's in cons.price.idx should be tackled in the course of the analysis."
   ]
  },
  {
   "cell_type": "code",
   "execution_count": 3,
   "metadata": {},
   "outputs": [
    {
     "data": {
      "text/plain": [
       "                \n",
       "                         no        yes\n",
       "  campaign group 0.88735130 0.11264870\n",
       "  control group  0.90757527 0.09242473"
      ]
     },
     "metadata": {},
     "output_type": "display_data"
    },
    {
     "data": {
      "text/html": [
       "0.0202239682177775"
      ],
      "text/latex": [
       "0.0202239682177775"
      ],
      "text/markdown": [
       "0.0202239682177775"
      ],
      "text/plain": [
       "[1] 0.02022397"
      ]
     },
     "metadata": {},
     "output_type": "display_data"
    }
   ],
   "source": [
    "(t <- prop.table(table(data$test_control_flag,data$y),1))\n",
    "(net_effect <- t[1,2]-t[2,2])"
   ]
  },
  {
   "cell_type": "markdown",
   "metadata": {},
   "source": [
    "It appears that the proportion of the clients who purchased the product within campaign group is **app. 2% higher than in the control group. So the campaign seems to be effective in general.** However, I need to take a closer look on the counts within these groups."
   ]
  },
  {
   "cell_type": "code",
   "execution_count": 4,
   "metadata": {},
   "outputs": [
    {
     "data": {
      "image/png": "[encoded data removed]",
      "text/plain": [
       "plot without title"
      ]
     },
     "metadata": {},
     "output_type": "display_data"
    }
   ],
   "source": [
    "ggplot(data,aes(x=y)) + geom_bar() + facet_wrap(~test_control_flag)"
   ]
  },
  {
   "cell_type": "markdown",
   "metadata": {},
   "source": [
    "Seems like the control group is in general slightly bigger. Another variable I need to take a closer look at is _pdays_ - number of days that passed by after the client was last contacted from a previous campaign. As it's a numeric variable with max 999 (meaning the client was not previously contacted at all) I need to convert it into categorical one, because 999 will skew my dataset."
   ]
  },
  {
   "cell_type": "code",
   "execution_count": 5,
   "metadata": {},
   "outputs": [
    {
     "data": {
      "image/png": "[encoded data removed]",
      "text/plain": [
       "Plot with title \"Histogram of pdays from full dataset\""
      ]
     },
     "metadata": {},
     "output_type": "display_data"
    },
    {
     "data": {
      "text/plain": [
       "   Min. 1st Qu.  Median    Mean 3rd Qu.    Max. \n",
       "  0.000   3.000   6.000   6.015   7.000  27.000 "
      ]
     },
     "metadata": {},
     "output_type": "display_data"
    },
    {
     "data": {
      "image/png": "[encoded data removed]",
      "text/plain": [
       "Plot with title \"Histogram of pdays excluding 999 values\""
      ]
     },
     "metadata": {},
     "output_type": "display_data"
    }
   ],
   "source": [
    "hist(data$pdays, main = \"Histogram of pdays from full dataset\")\n",
    "hist(data$pdays[data$pdays<999], main = \"Histogram of pdays excluding 999 values\")\n",
    "summary(data$pdays[data$pdays<999])"
   ]
  },
  {
   "cell_type": "markdown",
   "metadata": {},
   "source": [
    "So most of the clients has never been contacted before. So I chose to recode this variable into three categories: \n",
    "<ol>\n",
    "<li>\"last week\" - somebody was contacted within last 7 days,</li>\n",
    "<li>\"earlier than week ago\" - somebody was contacted earlier than a week ago</li>\n",
    "<li>\"never\" - somebody has never before been contacted</li>\n",
    "</ol>\n",
    "I also changed the values of our dependent variable y to 0 and 1."
   ]
  },
  {
   "cell_type": "code",
   "execution_count": 6,
   "metadata": {},
   "outputs": [
    {
     "data": {
      "text/plain": [
       "\n",
       "earlier than week ago             last week                 never \n",
       "                  338                  1177                 39673 "
      ]
     },
     "metadata": {},
     "output_type": "display_data"
    }
   ],
   "source": [
    "data$y <- as.integer(data$y)\n",
    "data <- data %>%\n",
    "  mutate(pdays = case_when(pdays<=7 ~ \"last week\",\n",
    "                            pdays<999 & pdays>7 ~ \"earlier than week ago\",\n",
    "                            pdays>=999 ~ \"never\"),\n",
    "         y = case_when(y==1 ~ 0,\n",
    "                       y==2 ~ 1))\n",
    "data$pdays <- as.factor(data$pdays)  \n",
    "table(data$pdays)\n",
    "data$y <- as.integer(data$y)"
   ]
  },
  {
   "cell_type": "markdown",
   "metadata": {},
   "source": [
    "The next step is spliting our data into training and testing dataset. The important part of it is to stick to the proportion of control/campaign groups and y outcomes. "
   ]
  },
  {
   "cell_type": "code",
   "execution_count": 7,
   "metadata": {},
   "outputs": [
    {
     "data": {
      "text/plain": [
       "                \n",
       "                          0          1\n",
       "  campaign group 0.88736669 0.11263331\n",
       "  control group  0.90756691 0.09243309"
      ]
     },
     "metadata": {},
     "output_type": "display_data"
    },
    {
     "data": {
      "text/plain": [
       "                \n",
       "                          0          1\n",
       "  campaign group 0.88731540 0.11268460\n",
       "  control group  0.90759477 0.09240523"
      ]
     },
     "metadata": {},
     "output_type": "display_data"
    }
   ],
   "source": [
    "set.seed(1)\n",
    "train_test_split <- stratified(data, group = c(\"test_control_flag\",\"y\"),size=0.7,bothSets = T)\n",
    "train <- train_test_split[[1]]\n",
    "test <- train_test_split[[2]]\n",
    "prop.table(table(train$test_control_flag,train$y),1)\n",
    "prop.table(table(test$test_control_flag,test$y),1)"
   ]
  },
  {
   "cell_type": "markdown",
   "metadata": {},
   "source": [
    "# Logistic regression (two-model approach)"
   ]
  },
  {
   "cell_type": "markdown",
   "metadata": {},
   "source": [
    "My approach to this task is to create two models. One will use use only control group observations to train predicting the y outcome. The second one will use only campaign group observations to train predicting the y outcome. Then I will use the testing dataset twice and compare the predictions to calculate the uplift from treating clients with campaign. My first try would be a logistic regression."
   ]
  },
  {
   "cell_type": "code",
   "execution_count": 8,
   "metadata": {},
   "outputs": [
    {
     "data": {
      "text/plain": [
       "\n",
       "Call:\n",
       "glm(formula = y ~ ., family = \"binomial\", data = train[test_control_flag == \n",
       "    \"control group\", -c(\"test_control_flag\", \"contact\", \"month\", \n",
       "    \"day_of_week\", \"duration\", \"campaign\")])\n",
       "\n",
       "Deviance Residuals: \n",
       "    Min       1Q   Median       3Q      Max  \n",
       "-1.7670  -0.3884  -0.2914  -0.2525   2.8497  \n",
       "\n",
       "Coefficients: (1 not defined because of singularities)\n",
       "                               Estimate Std. Error z value Pr(>|z|)    \n",
       "(Intercept)                  -1.003e+02  2.211e+01  -4.536 5.73e-06 ***\n",
       "X                             7.011e-05  1.058e-05   6.630 3.36e-11 ***\n",
       "age                           2.023e-03  3.435e-03   0.589 0.555794    \n",
       "jobblue-collar               -3.506e-01  1.142e-01  -3.069 0.002149 ** \n",
       "jobentrepreneur              -7.848e-03  1.710e-01  -0.046 0.963392    \n",
       "jobhousemaid                 -3.715e-01  2.235e-01  -1.662 0.096447 .  \n",
       "jobmanagement                -1.865e-01  1.254e-01  -1.487 0.137076    \n",
       "jobretired                    3.065e-01  1.506e-01   2.035 0.041836 *  \n",
       "jobself-employed             -3.169e-02  1.593e-01  -0.199 0.842298    \n",
       "jobservices                  -1.328e-01  1.216e-01  -1.092 0.274980    \n",
       "jobstudent                    2.101e-01  1.624e-01   1.293 0.195900    \n",
       "jobtechnician                -9.776e-02  1.018e-01  -0.961 0.336715    \n",
       "jobunemployed                 6.901e-02  1.676e-01   0.412 0.680497    \n",
       "jobunknown                    9.553e-03  3.334e-01   0.029 0.977140    \n",
       "maritalmarried                3.567e-02  9.695e-02   0.368 0.712932    \n",
       "maritalsingle                 1.197e-01  1.107e-01   1.081 0.279534    \n",
       "maritalunknown                1.784e-01  6.284e-01   0.284 0.776542    \n",
       "educationbasic.6y             2.064e-02  1.665e-01   0.124 0.901315    \n",
       "educationbasic.9y            -2.388e-01  1.342e-01  -1.779 0.075232 .  \n",
       "educationhigh.school         -1.785e-01  1.288e-01  -1.387 0.165547    \n",
       "educationilliterate           7.404e-01  1.173e+00   0.631 0.527860    \n",
       "educationprofessional.course -7.939e-02  1.411e-01  -0.563 0.573568    \n",
       "educationuniversity.degree   -7.493e-02  1.287e-01  -0.582 0.560306    \n",
       "educationunknown             -3.032e-02  1.709e-01  -0.177 0.859199    \n",
       "defaultunknown               -2.414e-01  9.508e-02  -2.539 0.011116 *  \n",
       "housingunknown                7.287e-02  1.944e-01   0.375 0.707738    \n",
       "housingyes                    5.436e-03  5.893e-02   0.092 0.926510    \n",
       "loanunknown                          NA         NA      NA       NA    \n",
       "loanyes                      -7.718e-03  8.086e-02  -0.095 0.923956    \n",
       "pdayslast week               -9.798e-02  2.145e-01  -0.457 0.647849    \n",
       "pdaysnever                   -1.328e+00  3.172e-01  -4.187 2.83e-05 ***\n",
       "previous                     -1.603e-01  8.445e-02  -1.898 0.057636 .  \n",
       "poutcomenonexistent           3.016e-01  1.338e-01   2.254 0.024172 *  \n",
       "poutcomesuccess               4.040e-01  3.207e-01   1.260 0.207712    \n",
       "emp.var.rate                 -7.011e-01  9.214e-02  -7.610 2.75e-14 ***\n",
       "cons.price.idx                1.030e+00  1.385e-01   7.438 1.03e-13 ***\n",
       "cons.conf.idx                 2.816e-02  8.397e-03   3.354 0.000796 ***\n",
       "euribor3m                     1.762e-01  1.181e-01   1.492 0.135714    \n",
       "nr.employed                   1.753e-04  2.072e-03   0.085 0.932549    \n",
       "---\n",
       "Signif. codes:  0 '***' 0.001 '**' 0.01 '*' 0.05 '.' 0.1 ' ' 1\n",
       "\n",
       "(Dispersion parameter for binomial family taken to be 1)\n",
       "\n",
       "    Null deviance: 10644.6  on 17215  degrees of freedom\n",
       "Residual deviance:  8724.4  on 17178  degrees of freedom\n",
       "  (83 observations deleted due to missingness)\n",
       "AIC: 8800.4\n",
       "\n",
       "Number of Fisher Scoring iterations: 6\n"
      ]
     },
     "metadata": {},
     "output_type": "display_data"
    },
    {
     "data": {
      "text/plain": [
       "\n",
       "Call:\n",
       "glm(formula = y ~ ., family = \"binomial\", data = train[test_control_flag == \n",
       "    \"campaign group\", -c(\"test_control_flag\", \"contact\", \"month\", \n",
       "    \"day_of_week\", \"duration\", \"campaign\")])\n",
       "\n",
       "Deviance Residuals: \n",
       "    Min       1Q   Median       3Q      Max  \n",
       "-1.9540  -0.4218  -0.3209  -0.2666   2.8103  \n",
       "\n",
       "Coefficients: (1 not defined because of singularities)\n",
       "                               Estimate Std. Error z value Pr(>|z|)    \n",
       "(Intercept)                  -4.648e+01  2.646e+01  -1.757 0.079000 .  \n",
       "X                             1.075e-04  1.795e-05   5.991 2.09e-09 ***\n",
       "age                           4.206e-04  4.027e-03   0.104 0.916821    \n",
       "jobblue-collar               -1.032e-01  1.280e-01  -0.806 0.419987    \n",
       "jobentrepreneur              -1.591e-01  2.069e-01  -0.769 0.441973    \n",
       "jobhousemaid                  1.413e-01  2.252e-01   0.627 0.530350    \n",
       "jobmanagement                -1.394e-02  1.367e-01  -0.102 0.918727    \n",
       "jobretired                    3.151e-02  1.806e-01   0.175 0.861472    \n",
       "jobself-employed             -1.270e-01  1.958e-01  -0.649 0.516610    \n",
       "jobservices                  -2.135e-01  1.398e-01  -1.527 0.126639    \n",
       "jobstudent                    3.501e-01  1.834e-01   1.909 0.056210 .  \n",
       "jobtechnician                -2.879e-02  1.161e-01  -0.248 0.804055    \n",
       "jobunemployed                -1.137e-01  2.110e-01  -0.539 0.590031    \n",
       "jobunknown                   -2.403e-01  4.107e-01  -0.585 0.558490    \n",
       "maritalmarried               -9.971e-02  1.093e-01  -0.912 0.361674    \n",
       "maritalsingle                -5.690e-04  1.243e-01  -0.005 0.996347    \n",
       "maritalunknown                2.691e-01  6.610e-01   0.407 0.683959    \n",
       "educationbasic.6y            -6.987e-02  2.028e-01  -0.344 0.730473    \n",
       "educationbasic.9y            -3.275e-02  1.541e-01  -0.212 0.831740    \n",
       "educationhigh.school          2.615e-02  1.505e-01   0.174 0.862032    \n",
       "educationilliterate           1.695e+00  1.457e+00   1.163 0.244764    \n",
       "educationprofessional.course -1.256e-01  1.693e-01  -0.742 0.457907    \n",
       "educationuniversity.degree    1.149e-01  1.507e-01   0.763 0.445556    \n",
       "educationunknown              1.359e-01  1.950e-01   0.697 0.485683    \n",
       "defaultunknown               -4.479e-01  1.130e-01  -3.965 7.34e-05 ***\n",
       "defaultyes                   -9.570e+00  1.873e+02  -0.051 0.959258    \n",
       "housingunknown               -1.686e-01  2.302e-01  -0.732 0.463986    \n",
       "housingyes                   -8.100e-02  6.727e-02  -1.204 0.228609    \n",
       "loanunknown                          NA         NA      NA       NA    \n",
       "loanyes                      -1.367e-01  9.512e-02  -1.438 0.150571    \n",
       "pdayslast week                3.754e-01  3.195e-01   1.175 0.240013    \n",
       "pdaysnever                   -1.163e+00  4.001e-01  -2.907 0.003652 ** \n",
       "previous                     -7.200e-02  1.075e-01  -0.670 0.502885    \n",
       "poutcomenonexistent           4.877e-01  1.642e-01   2.970 0.002979 ** \n",
       "poutcomesuccess               5.584e-01  4.428e-01   1.261 0.207309    \n",
       "emp.var.rate                 -4.239e-01  1.072e-01  -3.954 7.68e-05 ***\n",
       "cons.price.idx                6.413e-01  1.663e-01   3.856 0.000115 ***\n",
       "cons.conf.idx                 2.629e-02  9.866e-03   2.665 0.007705 ** \n",
       "euribor3m                     1.284e-01  1.388e-01   0.925 0.354786    \n",
       "nr.employed                  -2.966e-03  2.479e-03  -1.196 0.231519    \n",
       "---\n",
       "Signif. codes:  0 '***' 0.001 '**' 0.01 '*' 0.05 '.' 0.1 ' ' 1\n",
       "\n",
       "(Dispersion parameter for binomial family taken to be 1)\n",
       "\n",
       "    Null deviance: 8118.9  on 11532  degrees of freedom\n",
       "Residual deviance: 6510.0  on 11494  degrees of freedom\n",
       "AIC: 6588\n",
       "\n",
       "Number of Fisher Scoring iterations: 11\n"
      ]
     },
     "metadata": {},
     "output_type": "display_data"
    }
   ],
   "source": [
    "control_log <- glm(y~.,\n",
    "                   data=train[test_control_flag==\"control group\",-c(\"test_control_flag\",\"contact\",\"month\",\"day_of_week\",\"duration\",\"campaign\")],\n",
    "                   family = \"binomial\")\n",
    "summary(control_log)\n",
    "\n",
    "campaign_log <- glm(y~.,\n",
    "    data=train[test_control_flag==\"campaign group\",-c(\"test_control_flag\",\"contact\",\"month\",\"day_of_week\",\"duration\",\"campaign\")],\n",
    "    family = \"binomial\")\n",
    "summary(campaign_log)\n"
   ]
  },
  {
   "cell_type": "markdown",
   "metadata": {},
   "source": [
    "The reason I'm omitting the variables related to current campaign is that I cannot use them for control group model and I want my models to be exactly the same. Now I will predict the outcomes basing on those two models."
   ]
  },
  {
   "cell_type": "code",
   "execution_count": 9,
   "metadata": {},
   "outputs": [
    {
     "name": "stderr",
     "output_type": "stream",
     "text": [
      "Warning message in predict.lm(object, newdata, se.fit, scale = 1, type = if (type == :\n",
      "\"prediction from a rank-deficient fit may be misleading\"Warning message in predict.lm(object, newdata, se.fit, scale = 1, type = if (type == :\n",
      "\"prediction from a rank-deficient fit may be misleading\""
     ]
    }
   ],
   "source": [
    "control_prediction_log <- predict(control_log,\n",
    "                     newdata = test[,-c(\"test_control_flag\",\"contact\",\"month\",\"day_of_week\",\"duration\",\"campaign\")],\n",
    "                     type = \"response\")\n",
    "campaign_prediction_log <- predict(campaign_log,\n",
    "                               newdata = test[,-c(\"test_control_flag\",\"contact\",\"month\",\"day_of_week\",\"duration\",\"campaign\")],\n",
    "                               type = \"response\")\n"
   ]
  },
  {
   "cell_type": "markdown",
   "metadata": {},
   "source": [
    "Now I would like to compare the outcomes and see what is the effect of addressing customers with marketing campaign."
   ]
  },
  {
   "cell_type": "code",
   "execution_count": 10,
   "metadata": {},
   "outputs": [
    {
     "data": {
      "image/png": "[encoded data removed]",
      "text/plain": [
       "Plot with title \"Overal uplift from treating a group with campaign\""
      ]
     },
     "metadata": {},
     "output_type": "display_data"
    }
   ],
   "source": [
    "hist(campaign_prediction_log-control_prediction_log,main = \"Overal uplift from treating a group with campaign\", xlab = \"Uplift\")\n"
   ]
  },
  {
   "cell_type": "markdown",
   "metadata": {},
   "source": [
    "It seems like marketing has only positive effect on the probability of purchasing the product. **This seems weird to me, so I will take a closer look on the model fitness**. I present some of the metrics evaluating the model efficiency."
   ]
  },
  {
   "cell_type": "code",
   "execution_count": 11,
   "metadata": {},
   "outputs": [
    {
     "name": "stderr",
     "output_type": "stream",
     "text": [
      "Warning message:\n",
      "\"package 'pROC' was built under R version 3.6.3\"Type 'citation(\"pROC\")' for a citation.\n",
      "\n",
      "Attaching package: 'pROC'\n",
      "\n",
      "The following objects are masked from 'package:stats':\n",
      "\n",
      "    cov, smooth, var\n",
      "\n",
      "Warning message:\n",
      "\"package 'caret' was built under R version 3.6.3\"Loading required package: lattice\n"
     ]
    },
    {
     "data": {
      "text/plain": [
       "Confusion Matrix and Statistics\n",
       "\n",
       "          Reference\n",
       "Prediction     0     1\n",
       "         0 11018  1138\n",
       "         1    66   104\n",
       "                                          \n",
       "               Accuracy : 0.9023          \n",
       "                 95% CI : (0.8969, 0.9075)\n",
       "    No Information Rate : 0.8992          \n",
       "    P-Value [Acc > NIR] : 0.1307          \n",
       "                                          \n",
       "                  Kappa : 0.1261          \n",
       "                                          \n",
       " Mcnemar's Test P-Value : <2e-16          \n",
       "                                          \n",
       "            Sensitivity : 0.083736        \n",
       "            Specificity : 0.994045        \n",
       "         Pos Pred Value : 0.611765        \n",
       "         Neg Pred Value : 0.906384        \n",
       "             Prevalence : 0.100763        \n",
       "         Detection Rate : 0.008437        \n",
       "   Detection Prevalence : 0.013792        \n",
       "      Balanced Accuracy : 0.538891        \n",
       "                                          \n",
       "       'Positive' Class : 1               \n",
       "                                          "
      ]
     },
     "metadata": {},
     "output_type": "display_data"
    },
    {
     "data": {
      "text/plain": [
       "Confusion Matrix and Statistics\n",
       "\n",
       "          Reference\n",
       "Prediction    0    1\n",
       "         0 9009  613\n",
       "         1 2075  629\n",
       "                                          \n",
       "               Accuracy : 0.7819          \n",
       "                 95% CI : (0.7745, 0.7892)\n",
       "    No Information Rate : 0.8992          \n",
       "    P-Value [Acc > NIR] : 1               \n",
       "                                          \n",
       "                  Kappa : 0.2097          \n",
       "                                          \n",
       " Mcnemar's Test P-Value : <2e-16          \n",
       "                                          \n",
       "            Sensitivity : 0.50644         \n",
       "            Specificity : 0.81279         \n",
       "         Pos Pred Value : 0.23262         \n",
       "         Neg Pred Value : 0.93629         \n",
       "             Prevalence : 0.10076         \n",
       "         Detection Rate : 0.05103         \n",
       "   Detection Prevalence : 0.21937         \n",
       "      Balanced Accuracy : 0.65962         \n",
       "                                          \n",
       "       'Positive' Class : 1               \n",
       "                                          "
      ]
     },
     "metadata": {},
     "output_type": "display_data"
    },
    {
     "name": "stderr",
     "output_type": "stream",
     "text": [
      "Setting levels: control = 0, case = 1\n",
      "Setting direction: controls < cases\n",
      "Setting levels: control = 0, case = 1\n",
      "Setting direction: controls < cases\n"
     ]
    },
    {
     "data": {
      "text/html": [
       "0.721547895706103"
      ],
      "text/latex": [
       "0.721547895706103"
      ],
      "text/markdown": [
       "0.721547895706103"
      ],
      "text/plain": [
       "Area under the curve: 0.7215"
      ]
     },
     "metadata": {},
     "output_type": "display_data"
    },
    {
     "data": {
      "text/html": [
       "0.702998286834369"
      ],
      "text/latex": [
       "0.702998286834369"
      ],
      "text/markdown": [
       "0.702998286834369"
      ],
      "text/plain": [
       "Area under the curve: 0.703"
      ]
     },
     "metadata": {},
     "output_type": "display_data"
    },
    {
     "data": {
      "image/png": "[encoded data removed]",
      "text/plain": [
       "plot without title"
      ]
     },
     "metadata": {},
     "output_type": "display_data"
    }
   ],
   "source": [
    "library(pROC)\n",
    "library(caret)\n",
    "confusionMatrix(as.factor(round(control_prediction_log,0)),as.factor(test$y),positive = \"1\")\n",
    "confusionMatrix(as.factor(round(campaign_prediction_log,0)),as.factor(test$y), positive = \"1\")\n",
    "\n",
    "roc.log.control <- roc(test$y ~ control_prediction_log)\n",
    "roc.log.campaign <- roc(test$y ~ campaign_prediction_log)\n",
    "plot(roc.log.control, legacy.axes = T,  col=\"red\")\n",
    "plot(roc.log.campaign, legacy.axes = T, add=T, col=\"blue\")\n",
    "(auc.log.control <- auc(roc.log.control))\n",
    "(auc.log.campaign <- auc(roc.log.campaign))\n"
   ]
  },
  {
   "cell_type": "markdown",
   "metadata": {},
   "source": [
    "In overall the first model (control group) has significantly higher accuracy, but really low sensitivity. This leads to many FN errors from the control group model. On the other hand the second model (campaign group) is more balanced, but the overall accuracy is lower. Both AUC and ROC imply that control model is better fitted to the testing data. Here a different cutoff point (different than 0,5 assumed) could be used to increase the sensitivity, but I will leave it as is for now, as I expect my second attempt to be more effective. **As the next step I would like to calculate what is the impact of using the model vs randomly picking the customers**. To do so I assumed couple of business metrics: \n",
    "<ol>\n",
    "<li>revenue - lifelong revenue from a client</li>\n",
    "<li>cost - hypothetical cost of contacting a client</li>\n",
    "<li>budget - fixed budget for the marketing campaign</li>\n",
    "</ol>"
   ]
  },
  {
   "cell_type": "code",
   "execution_count": 12,
   "metadata": {},
   "outputs": [],
   "source": [
    "revenue <- 1000\n",
    "cost <- 100\n",
    "budget <- 100*2000"
   ]
  },
  {
   "cell_type": "markdown",
   "metadata": {},
   "source": [
    "Firstly, I am calculating the profit given random choice of 2000 customers"
   ]
  },
  {
   "cell_type": "code",
   "execution_count": 13,
   "metadata": {},
   "outputs": [
    {
     "name": "stdout",
     "output_type": "stream",
     "text": [
      "  total_profit\n",
      "1       284000\n"
     ]
    }
   ],
   "source": [
    "targeting_random <- as.data.frame(campaign_prediction_log)\n",
    "targeting_random <- targeting_random %>%\n",
    "  filter(campaign_prediction_log<=1) # filtering out the NAs\n",
    "targeting_random$x <- 1:nrow(targeting_random)\n",
    "set.seed(1);targeting_random <- sample_n(targeting_random,budget/cost) %>%\n",
    "mutate(outcome=round(campaign_prediction_log,0), profit = outcome*revenue-100) %>%\n",
    "  summarise(total_profit = sum(profit))\n",
    "print(targeting_random)"
   ]
  },
  {
   "cell_type": "markdown",
   "metadata": {},
   "source": [
    "The profit from random choice equals 284,000, but we still have to remember that my model didn't show any negative effect of contacting a client - meaning anyone campaigned would have positive uplift in probability of buying a product. Next I will calculate the profit using top 2000 cases (top in terms of uplift)."
   ]
  },
  {
   "cell_type": "code",
   "execution_count": 14,
   "metadata": {},
   "outputs": [
    {
     "name": "stderr",
     "output_type": "stream",
     "text": [
      "Selecting by x\n"
     ]
    },
    {
     "name": "stdout",
     "output_type": "stream",
     "text": [
      "  total_profit\n",
      "1      1705000\n"
     ]
    }
   ],
   "source": [
    "targeting_best <- as.data.frame(campaign_prediction_log)\n",
    "targeting_best <- targeting_best %>%\n",
    "  filter(campaign_prediction_log<=1) # filtering out the NAs\n",
    "targeting_best$x <- 1:nrow(targeting_best)\n",
    "targeting_best <- targeting_best %>%\n",
    "  arrange(desc(campaign_prediction_log)) %>%\n",
    "  top_n(2000) %>%\n",
    "  mutate(outcome=round(campaign_prediction_log,0), profit = outcome*revenue-100) %>%\n",
    "  summarise(total_profit = sum(profit))\n",
    "print(targeting_best)"
   ]
  },
  {
   "cell_type": "markdown",
   "metadata": {},
   "source": [
    "Using the model to choose the clients gives approximately **5 times better results** than random choice."
   ]
  },
  {
   "cell_type": "code",
   "execution_count": 15,
   "metadata": {},
   "outputs": [
    {
     "data": {
      "text/html": [
       "<table>\n",
       "<thead><tr><th scope=col>total_profit</th></tr></thead>\n",
       "<tbody>\n",
       "\t<tr><td>5.003521</td></tr>\n",
       "</tbody>\n",
       "</table>\n"
      ],
      "text/latex": [
       "\\begin{tabular}{r|l}\n",
       " total\\_profit\\\\\n",
       "\\hline\n",
       "\t 5.003521\\\\\n",
       "\\end{tabular}\n"
      ],
      "text/markdown": [
       "\n",
       "| total_profit |\n",
       "|---|\n",
       "| 5.003521 |\n",
       "\n"
      ],
      "text/plain": [
       "  total_profit\n",
       "1 5.003521    "
      ]
     },
     "metadata": {},
     "output_type": "display_data"
    }
   ],
   "source": [
    "(increased_profit <- (targeting_best-targeting_random)/targeting_random)"
   ]
  },
  {
   "cell_type": "markdown",
   "metadata": {},
   "source": [
    "# Random Forest (two-model approach)"
   ]
  },
  {
   "cell_type": "markdown",
   "metadata": {},
   "source": [
    "As I mentioned before I will try to use different method which might be better suited to the dataset. I chose to go with **random forest, but the overall approach of comparing two models doesn't change**. I need to get rid of the observations including NAs, as they are not operated with the random forest from randomForest package."
   ]
  },
  {
   "cell_type": "code",
   "execution_count": 16,
   "metadata": {},
   "outputs": [
    {
     "name": "stderr",
     "output_type": "stream",
     "text": [
      "Warning message:\n",
      "\"package 'randomForest' was built under R version 3.6.3\"randomForest 4.6-14\n",
      "Type rfNews() to see new features/changes/bug fixes.\n",
      "\n",
      "Attaching package: 'randomForest'\n",
      "\n",
      "The following object is masked from 'package:dplyr':\n",
      "\n",
      "    combine\n",
      "\n",
      "The following object is masked from 'package:ggplot2':\n",
      "\n",
      "    margin\n",
      "\n"
     ]
    }
   ],
   "source": [
    "library(randomForest)\n",
    "train.rf.control<- na.omit(train[test_control_flag==\"control group\",-c(\"test_control_flag\",\"contact\",\"month\",\"day_of_week\",\"duration\",\"campaign\")])\n",
    "train.rf.campaign<- na.omit(train[test_control_flag==\"campaign group\",-c(\"test_control_flag\",\"contact\",\"month\",\"day_of_week\",\"duration\",\"campaign\")])\n",
    "\n",
    "\n",
    "rf.control <- randomForest(x = train.rf.control[,-c(\"y\")],\n",
    "                         y = as.factor(train.rf.control[,y]),\n",
    "                         ntree = 200, importance = F)\n",
    "\n",
    "rf.campaign <- randomForest(x= train.rf.campaign[,-c(\"y\")],\n",
    "                            y = as.factor(train.rf.campaign[,y]),\n",
    "                            ntree = 200, importance = F)\n",
    "\n",
    "rf.test <- na.omit(test[,-c(\"test_control_flag\",\"contact\",\"month\",\"day_of_week\",\"duration\",\"campaign\")])\n"
   ]
  },
  {
   "cell_type": "markdown",
   "metadata": {},
   "source": [
    "I changed the initial parameters of the random forests basing on trial and error method. This could still be improved, but the gain won't be significant. Next I predict y outcomes and create similar histogram of the uplift (difference between predictions basing on two models)."
   ]
  },
  {
   "cell_type": "code",
   "execution_count": 17,
   "metadata": {},
   "outputs": [
    {
     "data": {
      "image/png": "[encoded data removed]",
      "text/plain": [
       "Plot with title \"Overal uplift from treating a group with campaign\""
      ]
     },
     "metadata": {},
     "output_type": "display_data"
    }
   ],
   "source": [
    "control_prediction_rf <- predict(rf.control,newdata = rf.test[,-c(\"y\")], type= \"prob\")\n",
    "control_prediction_rf <- control_prediction_rf[,\"1\"]\n",
    "campaign_prediction_rf <- predict(rf.campaign,newdata = rf.test[,-c(\"y\")], type= \"prob\")  \n",
    "campaign_prediction_rf <- campaign_prediction_rf[,\"1\"]\n",
    "\n",
    "hist(campaign_prediction_rf-control_prediction_rf,main = \"Overal uplift from treating a group with campaign\", xlab = \"Uplift\")\n"
   ]
  },
  {
   "cell_type": "markdown",
   "metadata": {},
   "source": [
    "Interestingly it seems **there is actually a negative effect of campaigning specific clients**. It's intuitive and can be described by an example of emailing to a *Netflix* client with a new pricing offer which might remind them that they don't use the service anymore and decide to opt out from the subscribtion. In this case campaigning incorrect clients has negative effect on the profit (generates both costs and decrease revenue). Now I will compare the random forests models with logistic regression. "
   ]
  },
  {
   "cell_type": "code",
   "execution_count": 18,
   "metadata": {},
   "outputs": [
    {
     "data": {
      "text/plain": [
       "Confusion Matrix and Statistics\n",
       "\n",
       "          Reference\n",
       "Prediction     0     1\n",
       "         0 10928  1074\n",
       "         1   156   168\n",
       "                                          \n",
       "               Accuracy : 0.9002          \n",
       "                 95% CI : (0.8948, 0.9054)\n",
       "    No Information Rate : 0.8992          \n",
       "    P-Value [Acc > NIR] : 0.3667          \n",
       "                                          \n",
       "                  Kappa : 0.1804          \n",
       "                                          \n",
       " Mcnemar's Test P-Value : <2e-16          \n",
       "                                          \n",
       "            Sensitivity : 0.13527         \n",
       "            Specificity : 0.98593         \n",
       "         Pos Pred Value : 0.51852         \n",
       "         Neg Pred Value : 0.91051         \n",
       "             Prevalence : 0.10076         \n",
       "         Detection Rate : 0.01363         \n",
       "   Detection Prevalence : 0.02629         \n",
       "      Balanced Accuracy : 0.56060         \n",
       "                                          \n",
       "       'Positive' Class : 1               \n",
       "                                          "
      ]
     },
     "metadata": {},
     "output_type": "display_data"
    },
    {
     "data": {
      "text/plain": [
       "Confusion Matrix and Statistics\n",
       "\n",
       "          Reference\n",
       "Prediction     0     1\n",
       "         0 10721   896\n",
       "         1   363   346\n",
       "                                          \n",
       "               Accuracy : 0.8979          \n",
       "                 95% CI : (0.8924, 0.9032)\n",
       "    No Information Rate : 0.8992          \n",
       "    P-Value [Acc > NIR] : 0.7007          \n",
       "                                          \n",
       "                  Kappa : 0.3037          \n",
       "                                          \n",
       " Mcnemar's Test P-Value : <2e-16          \n",
       "                                          \n",
       "            Sensitivity : 0.27858         \n",
       "            Specificity : 0.96725         \n",
       "         Pos Pred Value : 0.48801         \n",
       "         Neg Pred Value : 0.92287         \n",
       "             Prevalence : 0.10076         \n",
       "         Detection Rate : 0.02807         \n",
       "   Detection Prevalence : 0.05752         \n",
       "      Balanced Accuracy : 0.62292         \n",
       "                                          \n",
       "       'Positive' Class : 1               \n",
       "                                          "
      ]
     },
     "metadata": {},
     "output_type": "display_data"
    },
    {
     "name": "stderr",
     "output_type": "stream",
     "text": [
      "Setting levels: control = 0, case = 1\n",
      "Setting direction: controls < cases\n",
      "Setting levels: control = 0, case = 1\n",
      "Setting direction: controls < cases\n",
      "Warning message in par(xpd = xpd):\n",
      "\"pojawiły się wartości NA na skutek przekształcenia\""
     ]
    },
    {
     "data": {
      "text/html": [
       "0.769915550464873"
      ],
      "text/latex": [
       "0.769915550464873"
      ],
      "text/markdown": [
       "0.769915550464873"
      ],
      "text/plain": [
       "Area under the curve: 0.7699"
      ]
     },
     "metadata": {},
     "output_type": "display_data"
    },
    {
     "data": {
      "text/html": [
       "0.730780786277938"
      ],
      "text/latex": [
       "0.730780786277938"
      ],
      "text/markdown": [
       "0.730780786277938"
      ],
      "text/plain": [
       "Area under the curve: 0.7308"
      ]
     },
     "metadata": {},
     "output_type": "display_data"
    },
    {
     "data": {
      "image/png": "[encoded data removed]",
      "text/plain": [
       "Plot with title \"ROC curves for specific models\""
      ]
     },
     "metadata": {},
     "output_type": "display_data"
    }
   ],
   "source": [
    "confusionMatrix(as.factor(round(control_prediction_rf,0)),as.factor(rf.test$y),positive = \"1\")\n",
    "confusionMatrix(as.factor(round(campaign_prediction_rf,0)),as.factor(rf.test$y), positive = \"1\")\n",
    "\n",
    "roc.rf.control <- roc(rf.test$y ~ control_prediction_rf)\n",
    "roc.rf.campaign <- roc(rf.test$y ~ campaign_prediction_rf)\n",
    "plot(roc.rf.control, legacy.axes = T,  col=\"firebrick\",lty = 2, main = \"ROC curves for specific models\")\n",
    "plot(roc.rf.campaign, legacy.axes = T, add=T, col=\"firebrick1\", lty = 3)\n",
    "plot(roc.log.control, legacy.axes = T, add=T,  col=\"purple4\", lty = 4)\n",
    "plot(roc.log.campaign, legacy.axes = T, add=T, col=\"purple\", lty = 5)\n",
    "legend(0.2,1, legend = c(\"rf.con\", \"rf.camp\",\"log.con\",\"log.camp\"),\n",
    "        lty = c(2,3,4,5),\n",
    "        col = c(\"firebrick\",\"firebrick1\",\"purple4\",\"purple\"),\n",
    "        title = \"Models\",xpd=\"NA\")\n",
    "\n",
    "(auc.rf.control <- auc(roc.rf.control))\n",
    "(auc.rf.campaign <- auc(roc.rf.campaign))\n"
   ]
  },
  {
   "cell_type": "markdown",
   "metadata": {},
   "source": [
    "Two random forest models are more similar two each other in terms of sensitivity and specificity, which will increase the accuracy of the calculated uplift as differences between probs from models. On the ROC curve we can see that AUC is higher for both submodels (control, campaign). Next step is similar to the previous, I calculate the profit from random choice and model-determined selection."
   ]
  },
  {
   "cell_type": "code",
   "execution_count": 19,
   "metadata": {},
   "outputs": [
    {
     "name": "stdout",
     "output_type": "stream",
     "text": [
      "  total_profit\n",
      "1       -62000\n"
     ]
    }
   ],
   "source": [
    "targeting_random2 <- as.data.frame(campaign_prediction_rf)\n",
    "targeting_random2$x <- 1:nrow(targeting_random2)\n",
    "set.seed(1);targeting_random2 <- sample_n(targeting_random2,budget/cost) %>%\n",
    "  mutate(outcome=round(campaign_prediction_rf,0), profit = outcome*revenue-100) %>%\n",
    "  summarise(total_profit = sum(profit))\n",
    "print(targeting_random2)"
   ]
  },
  {
   "cell_type": "markdown",
   "metadata": {},
   "source": [
    "So here is what we should expect. **Random selection not only isn't effective, it actually costs a lot**. On the other hand we can use the model to select the customers basing on the top uplift. First I will use all the marketing budget to do so."
   ]
  },
  {
   "cell_type": "code",
   "execution_count": 20,
   "metadata": {},
   "outputs": [
    {
     "name": "stderr",
     "output_type": "stream",
     "text": [
      "Selecting by x\n"
     ]
    },
    {
     "name": "stdout",
     "output_type": "stream",
     "text": [
      "  total_profit\n",
      "1       194000\n"
     ]
    },
    {
     "data": {
      "text/html": [
       "<table>\n",
       "<thead><tr><th scope=col>total_profit</th></tr></thead>\n",
       "<tbody>\n",
       "\t<tr><td>256000</td></tr>\n",
       "</tbody>\n",
       "</table>\n"
      ],
      "text/latex": [
       "\\begin{tabular}{r|l}\n",
       " total\\_profit\\\\\n",
       "\\hline\n",
       "\t 256000\\\\\n",
       "\\end{tabular}\n"
      ],
      "text/markdown": [
       "\n",
       "| total_profit |\n",
       "|---|\n",
       "| 256000 |\n",
       "\n"
      ],
      "text/plain": [
       "  total_profit\n",
       "1 256000      "
      ]
     },
     "metadata": {},
     "output_type": "display_data"
    }
   ],
   "source": [
    "uplift <- campaign_prediction_rf-control_prediction_rf\n",
    "targeting_best2 <- data.frame(uplift,campaign_prediction_rf)\n",
    "targeting_best2$x <- 1:nrow(targeting_best2)\n",
    "targeting_best2 <- targeting_best2 %>%\n",
    "  arrange(desc(uplift)) %>%\n",
    "  top_n(2000) %>%\n",
    "  mutate(outcome=round(campaign_prediction_rf,0), profit = outcome*revenue-100) %>%\n",
    "  summarise(total_profit = sum(profit))\n",
    "print(targeting_best2)\n",
    "(increased_profit2 <- targeting_best2-targeting_random2)"
   ]
  },
  {
   "cell_type": "markdown",
   "metadata": {},
   "source": [
    "Using model to assess potential targets of marketing campaign gives us **+256000 instead of -62000**. However, if we have a negative effect we might consider cutting the number of targets below the maximum enabled by the budget. "
   ]
  },
  {
   "cell_type": "code",
   "execution_count": 21,
   "metadata": {},
   "outputs": [
    {
     "name": "stderr",
     "output_type": "stream",
     "text": [
      "Selecting by x\n"
     ]
    },
    {
     "name": "stdout",
     "output_type": "stream",
     "text": [
      "  total_profit\n",
      "1       273000\n"
     ]
    },
    {
     "data": {
      "text/html": [
       "<table>\n",
       "<thead><tr><th scope=col>total_profit</th></tr></thead>\n",
       "<tbody>\n",
       "\t<tr><td>335000</td></tr>\n",
       "</tbody>\n",
       "</table>\n"
      ],
      "text/latex": [
       "\\begin{tabular}{r|l}\n",
       " total\\_profit\\\\\n",
       "\\hline\n",
       "\t 335000\\\\\n",
       "\\end{tabular}\n"
      ],
      "text/markdown": [
       "\n",
       "| total_profit |\n",
       "|---|\n",
       "| 335000 |\n",
       "\n"
      ],
      "text/plain": [
       "  total_profit\n",
       "1 335000      "
      ]
     },
     "metadata": {},
     "output_type": "display_data"
    }
   ],
   "source": [
    "uplift <- campaign_prediction_rf-control_prediction_rf\n",
    "targeting_best2 <- data.frame(uplift,campaign_prediction_rf)\n",
    "targeting_best2$x <- 1:nrow(targeting_best2)\n",
    "targeting_best2 <- targeting_best2 %>%\n",
    "  arrange(desc(uplift)) %>%\n",
    "  top_n(900) %>%\n",
    "  mutate(outcome=round(campaign_prediction_rf,0), profit = outcome*revenue-100) %>%\n",
    "  summarise(total_profit = sum(profit))\n",
    "print(targeting_best2)\n",
    "(increased_profit2 <- targeting_best2-targeting_random2)"
   ]
  },
  {
   "cell_type": "markdown",
   "metadata": {},
   "source": [
    "Again basing on the trial and error method targeting only 900 top-prospect clients is more profitable. This concludes my solution which gives a proof of concept for establishing a model predicting whom to address with marketing campaign in our hypothetical situation. "
   ]
  },
  {
   "cell_type": "markdown",
   "metadata": {},
   "source": [
    "**My solution could be further enhanced in several ways**:\n",
    "<ol>\n",
    "<li>tuning all models to have better sensitivity (especially the potential of playing with variables in log regression, so that it's more useful)</li>\n",
    "<li>using causal random forest, which is not that intuitive, but highly effective - as suggested by the literature</li>\n",
    "<li>building campaign models using marketing campaign data (contact, month, day_of_week, duration, campaign) - which I omitted in my solution</li>\n",
    "<li>estimating the actual number of people to address more precisely</li>\n",
    "<li>building next model assessing what kind of contact is more appropriate to the specific client (exact day of week or communication type, to increase the uplift)</li>\n",
    "</ol>"
   ]
  }
 ],
 "metadata": {
  "kernelspec": {
   "display_name": "R",
   "language": "R",
   "name": "ir"
  },
  "language_info": {
   "codemirror_mode": "r",
   "file_extension": ".r",
   "mimetype": "text/x-r-source",
   "name": "R",
   "pygments_lexer": "r",
   "version": "3.6.1"
  }
 },
 "nbformat": 4,
 "nbformat_minor": 4
}
